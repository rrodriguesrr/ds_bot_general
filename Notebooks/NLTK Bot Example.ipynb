{
 "cells": [
  {
   "cell_type": "markdown",
   "id": "f4b69f02-fb24-49fe-8a48-2c1ddfd8b3c2",
   "metadata": {},
   "source": [
    "## Importar e instalar os pacotes do NLTK"
   ]
  },
  {
   "cell_type": "code",
   "execution_count": null,
   "id": "65145ef7-fb46-415b-a211-b75aec004d2e",
   "metadata": {},
   "outputs": [],
   "source": [
    "import nltk"
   ]
  },
  {
   "cell_type": "code",
   "execution_count": null,
   "id": "c5a1337a-274e-4436-8e34-09acf49c9bff",
   "metadata": {},
   "outputs": [],
   "source": [
    "from nltk.chat.util import Chat, reflections"
   ]
  },
  {
   "cell_type": "markdown",
   "id": "84572c89-9e33-4367-9cec-e6bd5366a79a",
   "metadata": {},
   "source": [
    "## Criar a Knowledge Base"
   ]
  },
  {
   "cell_type": "markdown",
   "id": "67fb6a64-5060-4139-9041-e49c7af9985b",
   "metadata": {},
   "source": [
    "Nesta etapa, a lista patterns deverá receber uma Knowledge Base da Rentcars a partir de um Web Scraping no site da Rentcars.\n",
    "\n",
    "Abaixo são dados de teste para mostrar que o Bot está funcionando"
   ]
  },
  {
   "cell_type": "code",
   "execution_count": null,
   "id": "93f5e04c-53de-4ca2-ab5f-456a0d923214",
   "metadata": {},
   "outputs": [],
   "source": [
    "# Define patterns and responses\n",
    "patterns = [\n",
    "    (r'Olá|hey', ['Olá!','Hey!']),\n",
    "    (r'Como você está?|Como vai?', ['Estou bem, Obrigado!']),\n",
    "    (r'Como se chama?|Qual o seu nome?', ['Me chame de Rentbot', 'Sou o Rentbot.']),\n",
    "    (r'Você tem telefone de contato?|Qual seu telefone?', ['Anote por favor: +551186541256']),\n",
    "    (r'sair|tchau|adeus', ['Até mais!', 'Tchau!', 'Se cuida!']),\n",
    "]\n"
   ]
  },
  {
   "cell_type": "markdown",
   "id": "5723ff45-ec86-409f-847f-16058f939323",
   "metadata": {},
   "source": [
    "## Chatbot"
   ]
  },
  {
   "cell_type": "code",
   "execution_count": null,
   "id": "8484bf8d-5a9f-4637-8bbf-e4527650f2d4",
   "metadata": {},
   "outputs": [],
   "source": [
    "# Create a Chatbot\n",
    "chatbot = Chat(patterns, reflections)"
   ]
  },
  {
   "cell_type": "code",
   "execution_count": null,
   "id": "f87fd956-7273-4c7f-8936-c42f5d1b7fd0",
   "metadata": {},
   "outputs": [],
   "source": [
    "# Define a function to interact with the user\n",
    "def chatbot_response(user_input):\n",
    "    response = chatbot.respond(user_input)\n",
    "    return response"
   ]
  },
  {
   "cell_type": "code",
   "execution_count": null,
   "id": "c7cb2bc6-dcfb-46e3-a6a1-0fc737e74ce3",
   "metadata": {},
   "outputs": [],
   "source": [
    "# Main function to interact with the user\n",
    "def main():\n",
    "    print(\"Hello! I'm a simple chatbot. You can start chatting with me. Type 'quit' to exit.\")\n",
    "    while True:\n",
    "        user_input = input(\"You: \")\n",
    "        if user_input.lower() == 'sair':\n",
    "            print(\"Chatbot: Até mais!\")\n",
    "            break\n",
    "        else:\n",
    "            response = chatbot_response(user_input)\n",
    "            print(\"Chatbot:\", response)\n",
    "\n",
    "if __name__ == \"__main__\":\n",
    "    main()"
   ]
  }
 ],
 "metadata": {
  "kernelspec": {
   "display_name": "Natural Language Processing",
   "language": "python",
   "name": "nlp"
  },
  "language_info": {
   "codemirror_mode": {
    "name": "ipython",
    "version": 3
   },
   "file_extension": ".py",
   "mimetype": "text/x-python",
   "name": "python",
   "nbconvert_exporter": "python",
   "pygments_lexer": "ipython3",
   "version": "3.10.0"
  }
 },
 "nbformat": 4,
 "nbformat_minor": 5
}
